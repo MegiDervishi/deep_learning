{
  "nbformat": 4,
  "nbformat_minor": 0,
  "metadata": {
    "colab": {
      "name": "02_backprop.ipynb",
      "provenance": [],
      "include_colab_link": true
    },
    "kernelspec": {
      "display_name": "Python 3",
      "language": "python",
      "name": "python3"
    },
    "language_info": {
      "codemirror_mode": {
        "name": "ipython",
        "version": 3
      },
      "file_extension": ".py",
      "mimetype": "text/x-python",
      "name": "python",
      "nbconvert_exporter": "python",
      "pygments_lexer": "ipython3",
      "version": "3.7.6"
    }
  },
  "cells": [
    {
      "cell_type": "markdown",
      "metadata": {
        "id": "view-in-github",
        "colab_type": "text"
      },
      "source": [
        "<a href=\"https://colab.research.google.com/github/MegiDervishi/notebooks/blob/master/Module2/02_backprop_done.ipynb\" target=\"_parent\"><img src=\"https://colab.research.google.com/assets/colab-badge.svg\" alt=\"Open In Colab\"/></a>"
      ]
    },
    {
      "cell_type": "markdown",
      "metadata": {
        "id": "8FM8CQHKcfhx"
      },
      "source": [
        "# Practical 2: Simple implementation of backprop\n",
        "\n",
        "Here we implement a simple backpropagation algorithm with `numpy` for the following problem:\n",
        "\n",
        "We generate points $(x_t,y_t)$ where $y_t= \\exp(w^*x_t+b^*)$, i.e $y^*_t$ is obtained by applying a deterministic function to $x_t$ with parameters $w^*$ and $b^*$. Our goal is to recover the parameters $w^*$ and $b^*$ from the observations $(x_t,y_t)$.\n",
        "\n",
        "To do this, we use SGD to minimize $\\sum_t(y^t - \\exp(w x_t+b))^2$ with respect to $w$ and $b$.\n",
        "\n",
        "In these practicals, we will implement **Stochastic Gradient Descent with minibatches of size 1** and not Batched Gradient Descent as seen in lesson 2.\n",
        "\n",
        "The modification to the algorithm is as follows: we want to minimize the loss given by:\n",
        "$$\n",
        "loss = \\sum_t\\underbrace{\\left(\\exp(w x_t+b)-y_t \\right)^2}_{loss_t}.\n",
        "$$\n",
        "\n",
        "To minimize the loss we first compute the gradient of each $loss_t$:\n",
        "$\\frac{\\partial{loss_t}}{\\partial w}$, and $\\frac{\\partial{loss_t}}{\\partial b}$.\n",
        "\n",
        "For one epoch, **Stochastic Gradient Descent with minibatches of size 1** then updates the weigts and bias by running the following loop: \n",
        "\n",
        "for $t \\in \\{1,\\dots,30\\}$, \n",
        "\n",
        "\\begin{eqnarray*}\n",
        "w_{t+1}&=&w^1_{t}-\\alpha\\frac{\\partial{loss_t}}{\\partial w} \\\\\n",
        "b_{t+1}&=&b_{t}-\\alpha\\frac{\\partial{loss_t}}{\\partial b},\n",
        "\\end{eqnarray*}\n",
        "\n",
        "if $t = 30$, set $w_1=w_{31}$, and $b_1=b_{31}$.\n",
        "\n",
        "$\\alpha>0$ is called the learning rate.\n",
        "\n",
        "Then we run several epochs...\n",
        "\n",
        "We see that one epoch is much less costly thanin the Batched Gradient Descent algorithm as you only need to have acces to one sample to make one update, whereas in the batched setting, you need to make a pass on the whole dataset to make an update. Of course, we are not computing the gradient here and the partial derivatives can be seen as noisy estimation of the gradient."
      ]
    },
    {
      "cell_type": "code",
      "metadata": {
        "id": "z-62DGjicfh3"
      },
      "source": [
        "# You do not need PyTorch for these practicals\n",
        "import numpy as np\n",
        "import matplotlib.pyplot as plt"
      ],
      "execution_count": 1,
      "outputs": []
    },
    {
      "cell_type": "code",
      "metadata": {
        "id": "SQlF4jhfcfiD"
      },
      "source": [
        "w, b = 0.5, 2\n",
        "xx = np.arange(0,1,.01)\n",
        "yy = np.exp(w*xx+b)"
      ],
      "execution_count": 2,
      "outputs": []
    },
    {
      "cell_type": "code",
      "metadata": {
        "colab": {
          "base_uri": "https://localhost:8080/",
          "height": 282
        },
        "id": "4OIvcmsqcfiL",
        "outputId": "d781eca5-23bf-4798-b78d-89ffc106d5e8"
      },
      "source": [
        "plt.plot(yy)"
      ],
      "execution_count": 3,
      "outputs": [
        {
          "output_type": "execute_result",
          "data": {
            "text/plain": [
              "[<matplotlib.lines.Line2D at 0x7efd4abb09e8>]"
            ]
          },
          "metadata": {
            "tags": []
          },
          "execution_count": 3
        },
        {
          "output_type": "display_data",
          "data": {
            "image/png": "[encoded data removed]",
            "text/plain": [
              "<Figure size 432x288 with 1 Axes>"
            ]
          },
          "metadata": {
            "tags": [],
            "needs_background": "light"
          }
        }
      ]
    },
    {
      "cell_type": "markdown",
      "metadata": {
        "id": "siSZvSBBcfiW"
      },
      "source": [
        "Following what we just saw in the course, you need to implement each of the basic operations: `(.*w), (.+b), exp(.)` with a forward method, a backward method and a step method."
      ]
    },
    {
      "cell_type": "markdown",
      "metadata": {
        "id": "Xfy5oCZBMnVj"
      },
      "source": [
        "If you are not familiar with [classes](https://docs.python.org/3/tutorial/classes.html) in Python, you should learn its basics as it will be required to follow the rest of the course.\n",
        "\n",
        "To help you, I have implemented the `(.+b)` operation as a Python class below:"
      ]
    },
    {
      "cell_type": "code",
      "metadata": {
        "id": "PeY2DlqNcfiZ"
      },
      "source": [
        "class add_bias(object):\n",
        "    def __init__(self,b):\n",
        "        # initialize with a bias b\n",
        "        self.b = b\n",
        "        \n",
        "    def forward(self, x):\n",
        "        # return the result of adding the bias      \n",
        "        return x + self.b\n",
        "    \n",
        "    def backward(self,grad):\n",
        "        # save the gradient (to update the bias in the step method) and return the gradient backward\n",
        "        self.grad = grad\n",
        "        return grad\n",
        "    \n",
        "    def step(self, learning_rate):\n",
        "        # update the bias\n",
        "        self.b -= learning_rate*self.grad        "
      ],
      "execution_count": 4,
      "outputs": []
    },
    {
      "cell_type": "markdown",
      "metadata": {
        "id": "UBLMKY1nMnVm"
      },
      "source": [
        "Consider now a simpler problem where you have $z_t = x_t+b^*$ and your task is to estmiate $b^*$ by minimizing the loss $\\sum_t(x_t+b-z_t)^2$ as a function of $b$ with SGD. You can use the `add_bias` defined above as follows:"
      ]
    },
    {
      "cell_type": "code",
      "metadata": {
        "id": "lZpxeNqQMnVn"
      },
      "source": [
        "# first compute the z_t with a true bias of 5:\n",
        "zz = xx+5\n",
        "\n",
        "#start with an initial guess of 1 for the bias:\n",
        "My_add_bias = add_bias(1)"
      ],
      "execution_count": 5,
      "outputs": []
    },
    {
      "cell_type": "code",
      "metadata": {
        "colab": {
          "base_uri": "https://localhost:8080/"
        },
        "id": "NLoIijKPMnVq",
        "outputId": "9e02f035-1f14-4e48-e1b0-e0b5ed084128"
      },
      "source": [
        "j = 10\n",
        "# your predicition will be for each sample\n",
        "z_pred = My_add_bias.forward(xx[j])\n",
        "z_pred"
      ],
      "execution_count": 6,
      "outputs": [
        {
          "output_type": "execute_result",
          "data": {
            "text/plain": [
              "1.1"
            ]
          },
          "metadata": {
            "tags": []
          },
          "execution_count": 6
        }
      ]
    },
    {
      "cell_type": "code",
      "metadata": {
        "id": "-ppGMgc7MnVt"
      },
      "source": [
        "# start with the gradient of the quadratic loss\n",
        "grad = 2*(z_pred-zz[j])"
      ],
      "execution_count": 7,
      "outputs": []
    },
    {
      "cell_type": "code",
      "metadata": {
        "colab": {
          "base_uri": "https://localhost:8080/"
        },
        "id": "lVIy0xeAMnVv",
        "outputId": "c1993d53-e4ac-4096-e87f-76fa02ec174d"
      },
      "source": [
        "# backpropagate the gradient to the parameter b\n",
        "My_add_bias.backward(grad)"
      ],
      "execution_count": 8,
      "outputs": [
        {
          "output_type": "execute_result",
          "data": {
            "text/plain": [
              "-7.999999999999999"
            ]
          },
          "metadata": {
            "tags": []
          },
          "execution_count": 8
        }
      ]
    },
    {
      "cell_type": "code",
      "metadata": {
        "colab": {
          "base_uri": "https://localhost:8080/"
        },
        "id": "cJtZICCiMnVy",
        "outputId": "ae858e83-e004-47aa-9ae7-3398590ce438"
      },
      "source": [
        "# make an update of the bias\n",
        "My_add_bias.step(1e-2)\n",
        "My_add_bias.b"
      ],
      "execution_count": 9,
      "outputs": [
        {
          "output_type": "execute_result",
          "data": {
            "text/plain": [
              "1.08"
            ]
          },
          "metadata": {
            "tags": []
          },
          "execution_count": 9
        }
      ]
    },
    {
      "cell_type": "markdown",
      "metadata": {
        "id": "3ZWF5vaTMnV0"
      },
      "source": [
        "The code above corresponds to one SGD update.\n",
        "Below, I coded the training loop for SGD where the update on the parameter is done each time you see a sample: for each sample $j$, you compute the associated "
      ]
    },
    {
      "cell_type": "code",
      "metadata": {
        "id": "_p1nC0dpMnV1"
      },
      "source": [
        "My_add_bias = add_bias(1)\n",
        "estimated_b = [1]\n",
        "for i in range(500):\n",
        "    # take a random indice\n",
        "    j = np.random.randint(1, len(xx))\n",
        "    z_pred = My_add_bias.forward(xx[j])\n",
        "    grad = 2*(z_pred-zz[j])\n",
        "    _ = My_add_bias.backward(grad)\n",
        "    My_add_bias.step(1e-2)\n",
        "    estimated_b.append(My_add_bias.b)"
      ],
      "execution_count": 10,
      "outputs": []
    },
    {
      "cell_type": "code",
      "metadata": {
        "colab": {
          "base_uri": "https://localhost:8080/",
          "height": 282
        },
        "id": "y3cekk-nMnV4",
        "outputId": "8a7251cc-e4a1-490e-c7e4-1d88918803dd"
      },
      "source": [
        "plt.plot(estimated_b)"
      ],
      "execution_count": 11,
      "outputs": [
        {
          "output_type": "execute_result",
          "data": {
            "text/plain": [
              "[<matplotlib.lines.Line2D at 0x7efd4a705cf8>]"
            ]
          },
          "metadata": {
            "tags": []
          },
          "execution_count": 11
        },
        {
          "output_type": "display_data",
          "data": {
            "image/png": "[encoded data removed]",
            "text/plain": [
              "<Figure size 432x288 with 1 Axes>"
            ]
          },
          "metadata": {
            "tags": [],
            "needs_background": "light"
          }
        }
      ]
    },
    {
      "cell_type": "markdown",
      "metadata": {
        "id": "EaqpsHK6MnV6"
      },
      "source": [
        "Although SGD is computing a noisy version of the gradient, we see that SGD converges to the right solution in this case.\n",
        "\n",
        "Now it is your turn!\n",
        "Following what we just saw in the course, you need to implement each of the basic operations: `(.*w), exp(.)` with a forward method, a backward method and a step method.\n",
        "\n",
        "![backprop3](https://dataflowr.github.io/notebooks/Module2/img/backprop3.png)"
      ]
    },
    {
      "cell_type": "code",
      "metadata": {
        "id": "58L4gjz1MnV7"
      },
      "source": [
        "class multiplication_weight(object):\n",
        "    def __init__(self, w):\n",
        "        # initialize with a weight w\n",
        "        self.w = w\n",
        "        \n",
        "    def forward(self, x):\n",
        "        # return the result of multiplying by weight\n",
        "        self.xsave = x\n",
        "        return x * self.w\n",
        "               \n",
        "    def backward(self,grad):\n",
        "        # save the gradient and return the gradient backward\n",
        "        self.grad = self.xsave * grad\n",
        "        return self.grad\n",
        "            \n",
        "    def step(self, learning_rate):\n",
        "        # update the weight\n",
        "        self.w -= learning_rate*self.grad        \n",
        "        \n",
        "class my_exp(object):\n",
        "    # no parameter\n",
        "    def forward(self, x):\n",
        "        # return exp(x)\n",
        "        self.y = np.exp(x)\n",
        "        return np.exp(x)\n",
        "            \n",
        "    def backward(self,grad):\n",
        "        # return the gradient backward\n",
        "        return grad * self.y\n",
        "            \n",
        "    def step(self, learning_rate):\n",
        "        # any parameter to update?\n",
        "        # Hint https://docs.python.org/3/reference/simple_stmts.html#the-pass-statement\n",
        "        pass"
      ],
      "execution_count": 40,
      "outputs": []
    },
    {
      "cell_type": "markdown",
      "metadata": {
        "id": "koymOfVlcfih"
      },
      "source": [
        "Now, you will need to compose sequentially these operations and here you need to code a class composing operations. This class will have a forward, a backward and a step method and also a compute_loss method."
      ]
    },
    {
      "cell_type": "code",
      "metadata": {
        "id": "EM5M8GCecfik"
      },
      "source": [
        "class my_composition(object):\n",
        "    def __init__(self, layers):\n",
        "        # initialize with all the operations (called layers here!) in the right order...\n",
        "        self.layers = layers\n",
        "                \n",
        "    def forward(self, x):\n",
        "        # apply the forward method of each layer\n",
        "        for layer in self.layers:\n",
        "          x = layer.forward(x)\n",
        "        return x\n",
        "\n",
        "    def compute_loss(self,y, y_est):\n",
        "        # use the L2 loss\n",
        "        # return the loss and save the gradient of the loss\n",
        "        self.grad = 2*(y_est - y)\n",
        "        return (y - y_est)**2\n",
        "\n",
        "    def backward(self):\n",
        "        # apply backprop sequentially, starting from the gradient of the loss\n",
        "        # Hint: https://docs.python.org/3/library/functions.html#reversed\n",
        "        curr = self.grad\n",
        "        for layer in reversed(self.layers):\n",
        "          curr = layer.backward(curr)\n",
        "            \n",
        "    def step(self, learning_rate):\n",
        "        # apply the step method of each layer\n",
        "        for layer in self.layers:\n",
        "          layer.step(learning_rate)\n",
        "        "
      ],
      "execution_count": 62,
      "outputs": []
    },
    {
      "cell_type": "code",
      "metadata": {
        "id": "cAgMTu_VSeam",
        "outputId": "73577fe2-3ea0-412c-aa26-0f071f5e8603",
        "colab": {
          "base_uri": "https://localhost:8080/"
        }
      },
      "source": [
        "my_fit = my_composition([multiplication_weight(1),add_bias(1), my_exp()])\n",
        "my_fit.forward(1.5)"
      ],
      "execution_count": 67,
      "outputs": [
        {
          "output_type": "execute_result",
          "data": {
            "text/plain": [
              "12.182493960703473"
            ]
          },
          "metadata": {
            "tags": []
          },
          "execution_count": 67
        }
      ]
    },
    {
      "cell_type": "code",
      "metadata": {
        "id": "TsJPPvrFS1eP",
        "outputId": "afaee775-d64b-4847-fdc7-db6380752d31",
        "colab": {
          "base_uri": "https://localhost:8080/"
        }
      },
      "source": [
        "my_fit.compute_loss(3,8.9)"
      ],
      "execution_count": 68,
      "outputs": [
        {
          "output_type": "execute_result",
          "data": {
            "text/plain": [
              "34.81"
            ]
          },
          "metadata": {
            "tags": []
          },
          "execution_count": 68
        }
      ]
    },
    {
      "cell_type": "code",
      "metadata": {
        "id": "rtai76NSTTvk",
        "outputId": "e8f325e7-687a-4d69-f9d7-b493bccab7f7",
        "colab": {
          "base_uri": "https://localhost:8080/"
        }
      },
      "source": [
        "my_fit.grad"
      ],
      "execution_count": 69,
      "outputs": [
        {
          "output_type": "execute_result",
          "data": {
            "text/plain": [
              "11.8"
            ]
          },
          "metadata": {
            "tags": []
          },
          "execution_count": 69
        }
      ]
    },
    {
      "cell_type": "code",
      "metadata": {
        "id": "mV3cnwcjTV6n"
      },
      "source": [
        "my_fit.backward()"
      ],
      "execution_count": 71,
      "outputs": []
    },
    {
      "cell_type": "code",
      "metadata": {
        "id": "MdidFcpyTdDO",
        "outputId": "b4fc39a0-85ae-40a3-f7a4-c1722591bfa6",
        "colab": {
          "base_uri": "https://localhost:8080/"
        }
      },
      "source": [
        "my_fit.layers[0].grad"
      ],
      "execution_count": 72,
      "outputs": [
        {
          "output_type": "execute_result",
          "data": {
            "text/plain": [
              "215.63014310445152"
            ]
          },
          "metadata": {
            "tags": []
          },
          "execution_count": 72
        }
      ]
    },
    {
      "cell_type": "markdown",
      "metadata": {
        "id": "Hs1M-kebcfir"
      },
      "source": [
        "Now you need to code the 'training' loop. Keep track of the loss, weight and bias computed at each epoch."
      ]
    },
    {
      "cell_type": "code",
      "metadata": {
        "id": "IWJgoCEKcfiu"
      },
      "source": [
        "my_fit = my_composition([multiplication_weight(1),add_bias(1), my_exp()])\n",
        "learning_rate = 1e-4\n",
        "losses =[]\n",
        "ws = []\n",
        "bs = []\n",
        "for i in range(5000):\n",
        "    # take a random indice\n",
        "    j = np.random.randint(1, len(xx))\n",
        "    # you can compare with\n",
        "    #j = i % len(xx)\n",
        "    # compute the estimated value of y from xx[j] with the current values of the parameters\n",
        "    y_est = my_fit.forward(xx[j])\n",
        "    # compute the loss and save it\n",
        "    loss = my_fit.compute_loss(yy[j],y_est)\n",
        "    losses.append(loss)\n",
        "    # update the parameters \n",
        "    my_fit.backward()\n",
        "    my_fit.step(learning_rate)\n",
        "    #and save them\n",
        "    ws.append(my_fit.layers[0].w)\n",
        "    bs.append(my_fit.layers[1].b)"
      ],
      "execution_count": 78,
      "outputs": []
    },
    {
      "cell_type": "code",
      "metadata": {
        "colab": {
          "base_uri": "https://localhost:8080/"
        },
        "id": "V7mp0eEEcfi2",
        "outputId": "c49ac2ee-3132-46f1-ec86-9ea837dba1ea"
      },
      "source": [
        "my_fit.layers[0].w"
      ],
      "execution_count": 79,
      "outputs": [
        {
          "output_type": "execute_result",
          "data": {
            "text/plain": [
              "0.504920096822584"
            ]
          },
          "metadata": {
            "tags": []
          },
          "execution_count": 79
        }
      ]
    },
    {
      "cell_type": "code",
      "metadata": {
        "colab": {
          "base_uri": "https://localhost:8080/"
        },
        "id": "t54ayZNDcfi9",
        "outputId": "a1ad5e09-81cf-4e7b-a751-4e947a7e93db"
      },
      "source": [
        "my_fit.layers[1].b"
      ],
      "execution_count": 80,
      "outputs": [
        {
          "output_type": "execute_result",
          "data": {
            "text/plain": [
              "1.9970131403279523"
            ]
          },
          "metadata": {
            "tags": []
          },
          "execution_count": 80
        }
      ]
    },
    {
      "cell_type": "code",
      "metadata": {
        "colab": {
          "base_uri": "https://localhost:8080/",
          "height": 282
        },
        "id": "4Gqz5CxzcfjG",
        "outputId": "100dcc4b-4dfa-49e2-eb32-e51425798982"
      },
      "source": [
        "plt.plot(losses)"
      ],
      "execution_count": 81,
      "outputs": [
        {
          "output_type": "execute_result",
          "data": {
            "text/plain": [
              "[<matplotlib.lines.Line2D at 0x7efd41df6390>]"
            ]
          },
          "metadata": {
            "tags": []
          },
          "execution_count": 81
        },
        {
          "output_type": "display_data",
          "data": {
            "image/png": "[encoded data removed]",
            "text/plain": [
              "<Figure size 432x288 with 1 Axes>"
            ]
          },
          "metadata": {
            "tags": [],
            "needs_background": "light"
          }
        }
      ]
    },
    {
      "cell_type": "code",
      "metadata": {
        "colab": {
          "base_uri": "https://localhost:8080/",
          "height": 282
        },
        "id": "kaHnaX8jcfjN",
        "outputId": "53eb1321-a008-4bd0-c572-7fb105be9c68"
      },
      "source": [
        "plt.plot(bs)"
      ],
      "execution_count": 82,
      "outputs": [
        {
          "output_type": "execute_result",
          "data": {
            "text/plain": [
              "[<matplotlib.lines.Line2D at 0x7efd41a1a0b8>]"
            ]
          },
          "metadata": {
            "tags": []
          },
          "execution_count": 82
        },
        {
          "output_type": "display_data",
          "data": {
            "image/png": "[encoded data removed]",
            "text/plain": [
              "<Figure size 432x288 with 1 Axes>"
            ]
          },
          "metadata": {
            "tags": [],
            "needs_background": "light"
          }
        }
      ]
    },
    {
      "cell_type": "code",
      "metadata": {
        "colab": {
          "base_uri": "https://localhost:8080/",
          "height": 282
        },
        "id": "ch28XtPUcfjV",
        "outputId": "7b74e200-e8ab-475e-a27d-ec7a97def9ed"
      },
      "source": [
        "plt.plot(ws)"
      ],
      "execution_count": 83,
      "outputs": [
        {
          "output_type": "execute_result",
          "data": {
            "text/plain": [
              "[<matplotlib.lines.Line2D at 0x7efd419ebe80>]"
            ]
          },
          "metadata": {
            "tags": []
          },
          "execution_count": 83
        },
        {
          "output_type": "display_data",
          "data": {
            "image/png": "[encoded data removed]",
            "text/plain": [
              "<Figure size 432x288 with 1 Axes>"
            ]
          },
          "metadata": {
            "tags": [],
            "needs_background": "light"
          }
        }
      ]
    },
    {
      "cell_type": "markdown",
      "metadata": {
        "id": "Q4Qb9d65NFpo"
      },
      "source": [
        "Now you understand how Pytorch deals with automatic differentiation!!"
      ]
    },
    {
      "cell_type": "code",
      "metadata": {
        "id": "x9x7Vwc_MnWT"
      },
      "source": [
        ""
      ],
      "execution_count": null,
      "outputs": []
    }
  ]
}